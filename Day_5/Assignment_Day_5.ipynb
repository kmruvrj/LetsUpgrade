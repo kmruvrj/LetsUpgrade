{
 "cells": [
  {
   "cell_type": "markdown",
   "metadata": {},
   "source": [
    "## 1. Write a python program to find the first 20 non even prime numbers"
   ]
  },
  {
   "cell_type": "code",
   "execution_count": 25,
   "metadata": {},
   "outputs": [
    {
     "name": "stdout",
     "output_type": "stream",
     "text": [
      "The first 20 numbers of prime number is [3, 5, 7, 11, 13, 17, 19, 23, 29, 31, 37, 41, 43, 47, 53, 59, 61, 67, 71, 73]\n"
     ]
    }
   ],
   "source": [
    "def non_even_prime_num():\n",
    "    lst = []\n",
    "    for i in range (1, 200):\n",
    "        if i > 1:\n",
    "            for j in range(2, i):\n",
    "                if i % j == 0:\n",
    "                    break\n",
    "            else:\n",
    "                 if i % 2 != 0 and len(lst)<20:\n",
    "                    lst.append(i)\n",
    "    print(f\"The first 20 numbers of prime number is {lst}\")\n",
    "non_even_prime_num()"
   ]
  },
  {
   "cell_type": "markdown",
   "metadata": {},
   "source": [
    "## 2. Write a program to implement 15 functions of string;"
   ]
  },
  {
   "cell_type": "code",
   "execution_count": 35,
   "metadata": {},
   "outputs": [
    {
     "name": "stdout",
     "output_type": "stream",
     "text": [
      "Life is what happens when you're busy making other plans.\n",
      "capitalize() function of given string results as: Life is what happens when you're busy making other plans.\n",
      "casefold() function of given string results as: life is what happens when you're busy making other plans.\n",
      "center() function of given string results as: Life is what happens when you're busy making other plans.\n",
      "count() function of given string results as: 1\n",
      "encode() function of given string results as: b\"Life is what happens when you're busy making other plans.\"\n",
      "endswith() function of given string results as: False\n",
      "expandtabs() function of given string results as: Life is what happens when you're busy making other plans.\n",
      "lower() function of given string results as: life is what happens when you're busy making other plans.\n",
      "upper() function of given string results as: LIFE IS WHAT HAPPENS WHEN YOU'RE BUSY MAKING OTHER PLANS.\n",
      "title() function of given string results as: Life Is What Happens When You'Re Busy Making Other Plans.\n",
      "swapcase() function of given string results as: lIFE IS WHAT HAPPENS WHEN YOU'RE BUSY MAKING OTHER PLANS.\n",
      "split() function of given string results as: ['Life', 'is', 'what', 'happens', 'when', \"you're\", 'busy', 'making', 'other', 'plans.']\n",
      "find() function of given string results as: 10\n",
      "join() function of given string results as: Life-is-what-happens-when-you're-busy-making-other-plans.\n",
      "partition() function of given string results as: ('Life', ' ', \"is what happens when you're busy making other plans.\")\n"
     ]
    }
   ],
   "source": [
    "def funs_string():\n",
    "    string = input()\n",
    "    cap_str1 = string.capitalize()\n",
    "    print(f\"capitalize() function of given string results as: {cap_str1}\")\n",
    "    casef_str2 = string.casefold()\n",
    "    print(f\"casefold() function of given string results as: {casef_str2}\")\n",
    "    cent_str3 = string.center(2)\n",
    "    print(f\"center() function of given string results as: {cent_str3}\")\n",
    "    count_str4 = string.count(\"b\")\n",
    "    print(f\"count() function of given string results as: {count_str4}\")\n",
    "    enc_str5 = string.encode()\n",
    "    print(f\"encode() function of given string results as: {enc_str5}\")\n",
    "    endsw_str6 = string.endswith(\"Click\")\n",
    "    print(f\"endswith() function of given string results as: {endsw_str6}\")\n",
    "    expt_str7 = string.expandtabs()\n",
    "    print(f\"expandtabs() function of given string results as: {expt_str7}\")\n",
    "    low_str8 = string.lower()\n",
    "    print(f\"lower() function of given string results as: {low_str8}\")\n",
    "    up_str9 = string.upper()\n",
    "    print(f\"upper() function of given string results as: {up_str9}\")\n",
    "    tit_str10 = string.title()\n",
    "    print(f\"title() function of given string results as: {tit_str10}\")\n",
    "    swap_str11 = string.swapcase()\n",
    "    print(f\"swapcase() function of given string results as: {swap_str11}\")\n",
    "    spl_str12 = string.split()\n",
    "    print(f\"split() function of given string results as: {spl_str12}\")\n",
    "    find_str13 = string.find(\"a\")\n",
    "    print(f\"find() function of given string results as: {find_str13}\")\n",
    "    join_str14 = \"-\".join(spl_str12)\n",
    "    print(f\"join() function of given string results as: {join_str14}\")\n",
    "    part_str15 = string.partition(\" \")\n",
    "    print(f\"partition() function of given string results as: {part_str15}\")\n",
    "funs_string()"
   ]
  },
  {
   "cell_type": "markdown",
   "metadata": {},
   "source": [
    "## 3. Write a program to check if the given string is a Palindrome or Anagram or None of them."
   ]
  },
  {
   "cell_type": "code",
   "execution_count": 4,
   "metadata": {},
   "outputs": [
    {
     "name": "stdout",
     "output_type": "stream",
     "text": [
      "Please enter 'P' to find Palindrome and 'A' to find Anagram: a\n",
      "Please enter first word: Conversation\n",
      "Please enter second word: Voices rant on\n",
      "The entered string is a Anagram\n"
     ]
    }
   ],
   "source": [
    "def pal_anag():\n",
    "    string_check = input(\"Please enter 'P' to find Palindrome and 'A' to find Anagram: \")\n",
    "    if string_check.lower() == \"p\":\n",
    "        pal_str = input(\"Please enter a word: \")\n",
    "        pal_str = pal_str.replace(\" \", \"\")\n",
    "        if pal_str == pal_str[::-1]:\n",
    "            print(\"The entered string is a Palindrome\")\n",
    "        else:\n",
    "            print(\"The entered string is not a Palindrome\")\n",
    "    elif string_check.lower() == \"a\":\n",
    "        anag_str1 = input(\"Please enter first word: \")\n",
    "        anag_str2 = input(\"Please enter second word: \")\n",
    "        anag_str1 = anag_str1.replace(\" \", \"\")\n",
    "        anag_str2 = anag_str2.replace(\" \", \"\")\n",
    "        if sorted(anag_str1.lower()) == sorted(anag_str2.lower()):\n",
    "            print(\"The entered string is a Anagram\")\n",
    "        else:\n",
    "            print(\"The entered string is not a Anagram\")\n",
    "    else:\n",
    "        print(\"The entered string is not a Palindrome or Anagram\")\n",
    "pal_anag()"
   ]
  },
  {
   "cell_type": "markdown",
   "metadata": {},
   "source": [
    "## 4. Write a python's user defined function that removes all the additional characters from the string and converts it finally to lower case using built in lower()."
   ]
  },
  {
   "cell_type": "code",
   "execution_count": 22,
   "metadata": {},
   "outputs": [
    {
     "name": "stdout",
     "output_type": "stream",
     "text": [
      "Yuvaraj Kumar @AI_ML Student\n",
      "yuvarajkumaraimlstudent\n"
     ]
    }
   ],
   "source": [
    "def format_string():\n",
    "    string = input()\n",
    "    str_lst = list(string)\n",
    "    new_strlst = []\n",
    "    for i in str_lst:\n",
    "        if i.isalpha():\n",
    "            new_strlst.append(i.lower())\n",
    "        else:\n",
    "            pass\n",
    "    print(\"\".join(new_strlst))\n",
    "format_string()"
   ]
  }
 ],
 "metadata": {
  "kernelspec": {
   "display_name": "Python 3",
   "language": "python",
   "name": "python3"
  }
 },
 "nbformat": 4,
 "nbformat_minor": 2
}
