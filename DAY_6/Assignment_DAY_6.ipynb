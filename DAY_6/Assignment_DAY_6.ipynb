{
 "cells": [
  {
   "cell_type": "markdown",
   "metadata": {},
   "source": [
    "### 1. Assuming that we have some email addresses of \"username@somemail.com\"format, write a program to print the company name from a given mail address. Both user names and company names are composed of letters only."
   ]
  },
  {
   "cell_type": "code",
   "execution_count": 28,
   "metadata": {},
   "outputs": [
    {
     "name": "stdout",
     "output_type": "stream",
     "text": [
      "Please Enter your Mail ID:kmruvrj@gmail.com\n",
      "kmruvrj@gmail.com\n"
     ]
    },
    {
     "data": {
      "text/plain": [
       "'gmail'"
      ]
     },
     "execution_count": 28,
     "metadata": {},
     "output_type": "execute_result"
    }
   ],
   "source": [
    "import re\n",
    "def comp_name():\n",
    "    mail_id = input(\"Please Enter your Mail ID:\")\n",
    "    print(mail_id)\n",
    "    char_split = re.split('\\W+', mail_id)\n",
    "    return(char_split[1])\n",
    "comp_name()"
   ]
  },
  {
   "cell_type": "markdown",
   "metadata": {},
   "source": [
    "### 2. Write a program that accepts the comma separated sequence of words as input and prints the comma separated sequence of words that sorted alphabetically."
   ]
  },
  {
   "cell_type": "code",
   "execution_count": 77,
   "metadata": {},
   "outputs": [
    {
     "name": "stdout",
     "output_type": "stream",
     "text": [
      "Please Enter comma separated words:The,Way,To,Get,Started,Is,To,Quit,Talking,And,Begin,Doing\n"
     ]
    },
    {
     "data": {
      "text/plain": [
       "'And,Begin,Doing,Get,Is,Quit,Started,Talking,The,To,To,Way'"
      ]
     },
     "execution_count": 77,
     "metadata": {},
     "output_type": "execute_result"
    }
   ],
   "source": [
    "def com_seq():\n",
    "    strs = input(\"Please Enter comma separated words:\")\n",
    "    strs_split = re.split('\\W+', strs)\n",
    "    sorted_seq = sorted(strs_split)\n",
    "    return (\",\".join(sorted_seq))\n",
    "com_seq()"
   ]
  },
  {
   "cell_type": "markdown",
   "metadata": {},
   "source": [
    "### 3. Sets\n",
    "\n",
    "- A set is an unordered collection of items. Every set element is unique (no duplicates)\n",
    "- A set itself is mutable, we can add or remove items from it.\n",
    "- Sets can also be used to perform mathematical set operations like union, intersection, symmetric difference, etc.,\n",
    "- A set is created by placing all the items (elements) inside curly braces {}, separated by comma, or by using the built-in set() function.\n",
    "- It can have any number of items and they may be of different types (integer, float, tuple, string etc.). But a set cannot have mutable elements like lists, sets or dictionaries as its elements."
   ]
  },
  {
   "cell_type": "code",
   "execution_count": 82,
   "metadata": {},
   "outputs": [
    {
     "name": "stdout",
     "output_type": "stream",
     "text": [
      "{'baby', 'a', 'is', 'of', 'Life', 'series', 'steps'}\n",
      "{2, 3, 4, 5, 7}\n",
      "{56, (2, 3, 4, 5), 'Python Sets'}\n"
     ]
    }
   ],
   "source": [
    "#Different assignments to sets.\n",
    "#Assigning strings:\n",
    "set1 = {'Life', 'is', 'a', 'series', 'of', 'baby', 'steps'}\n",
    "print(set1)\n",
    "\n",
    "#Assigning integers:\n",
    "set2 = {2, 5, 7, 2, 3, 4} #can't have duplicates in sets\n",
    "print(set2)\n",
    "\n",
    "#Assigning mixed datatypes\n",
    "set3 = {56, \"Python Sets\", (2,3,4,5)}\n",
    "print(set3)\n"
   ]
  },
  {
   "cell_type": "code",
   "execution_count": 84,
   "metadata": {},
   "outputs": [
    {
     "name": "stdout",
     "output_type": "stream",
     "text": [
      "{75, 12, 48, 23, 56, 89}\n"
     ]
    },
    {
     "ename": "TypeError",
     "evalue": "set expected at most 1 arguments, got 5",
     "output_type": "error",
     "traceback": [
      "\u001b[1;31m---------------------------------------------------------------------------\u001b[0m",
      "\u001b[1;31mTypeError\u001b[0m                                 Traceback (most recent call last)",
      "\u001b[1;32m<ipython-input-84-14d1d9d755c6>\u001b[0m in \u001b[0;36m<module>\u001b[1;34m\u001b[0m\n\u001b[0;32m      6\u001b[0m \u001b[1;31m# this will cause an error.\u001b[0m\u001b[1;33m\u001b[0m\u001b[1;33m\u001b[0m\u001b[1;33m\u001b[0m\u001b[0m\n\u001b[0;32m      7\u001b[0m \u001b[1;33m\u001b[0m\u001b[0m\n\u001b[1;32m----> 8\u001b[1;33m \u001b[0mset4\u001b[0m \u001b[1;33m=\u001b[0m \u001b[0mset\u001b[0m\u001b[1;33m(\u001b[0m\u001b[1;36m12\u001b[0m\u001b[1;33m,\u001b[0m\u001b[1;36m56\u001b[0m\u001b[1;33m,\u001b[0m\u001b[1;36m75\u001b[0m\u001b[1;33m,\u001b[0m\u001b[1;36m89\u001b[0m\u001b[1;33m,\u001b[0m\u001b[1;33m[\u001b[0m\u001b[1;36m23\u001b[0m\u001b[1;33m,\u001b[0m\u001b[1;36m48\u001b[0m\u001b[1;33m]\u001b[0m\u001b[1;33m)\u001b[0m\u001b[1;33m\u001b[0m\u001b[1;33m\u001b[0m\u001b[0m\n\u001b[0m\u001b[0;32m      9\u001b[0m \u001b[0mprint\u001b[0m\u001b[1;33m(\u001b[0m\u001b[0mset4\u001b[0m\u001b[1;33m)\u001b[0m\u001b[1;33m\u001b[0m\u001b[1;33m\u001b[0m\u001b[0m\n",
      "\u001b[1;31mTypeError\u001b[0m: set expected at most 1 arguments, got 5"
     ]
    }
   ],
   "source": [
    "#Converting sets to list:\n",
    "set4 = set([12,56,48,75,89,23])\n",
    "print(set4)\n",
    "# set cannot have mutable items\n",
    "# here [23, 48] is a mutable list\n",
    "\n",
    "set4 = set(12,56,75,89,[23,48])#this gives an error as set does not takes half list as argument\n",
    "print(set4)"
   ]
  },
  {
   "cell_type": "code",
   "execution_count": 87,
   "metadata": {},
   "outputs": [
    {
     "name": "stdout",
     "output_type": "stream",
     "text": [
      "<class 'dict'>\n",
      "<class 'set'>\n"
     ]
    }
   ],
   "source": [
    "'''\n",
    "Creating an empty sets considers {} as dictionary in default in python. \n",
    "So in case of considering empty sets use set() instead of {}\n",
    "'''\n",
    "i = {}\n",
    "print(type(i))\n",
    "j = set()\n",
    "print(type(j))"
   ]
  },
  {
   "cell_type": "markdown",
   "metadata": {},
   "source": [
    "### Modifying a set in Python\n",
    "\n",
    "- Sets are mutable. However, since they are unordered, indexing has no meaning.\n",
    "- We cannot access or change an element of a set using indexing or slicing. Set data type does not support it.\n",
    "- We can add a single element using the add() method, and multiple elements using the update() method. The update() method can take tuples, lists, strings or other sets as its argument. In all cases, duplicates are avoided."
   ]
  },
  {
   "cell_type": "code",
   "execution_count": 1,
   "metadata": {},
   "outputs": [
    {
     "name": "stdout",
     "output_type": "stream",
     "text": [
      "{1, 3}\n",
      "{1, 2, 3}\n",
      "{1, 2, 3, 4}\n",
      "{1, 2, 3, 4, 5, 6, 8}\n"
     ]
    }
   ],
   "source": [
    "# initialize my_set\n",
    "my_set = {1, 3}\n",
    "print(my_set)\n",
    "\n",
    "# if you uncomment line 9,\n",
    "# you will get an error\n",
    "# TypeError: 'set' object does not support indexing\n",
    "\n",
    "# my_set[0]\n",
    "\n",
    "# add an element\n",
    "# Output: {1, 2, 3}\n",
    "my_set.add(2)\n",
    "print(my_set)\n",
    "\n",
    "# add multiple elements\n",
    "# Output: {1, 2, 3, 4}\n",
    "my_set.update([2, 3, 4])\n",
    "print(my_set)\n",
    "\n",
    "# add list and set\n",
    "# Output: {1, 2, 3, 4, 5, 6, 8}\n",
    "my_set.update([4, 5], {1, 6, 8})\n",
    "print(my_set)"
   ]
  },
  {
   "cell_type": "markdown",
   "metadata": {},
   "source": [
    "### 4. Given a list of n-1 numbers ranging from 1 to n, task is to find the missing numbers. There are no duplicates."
   ]
  },
  {
   "cell_type": "code",
   "execution_count": 67,
   "metadata": {},
   "outputs": [
    {
     "data": {
      "text/plain": [
       "'In the above list of numbers 7 is missing.'"
      ]
     },
     "execution_count": 67,
     "metadata": {},
     "output_type": "execute_result"
    }
   ],
   "source": [
    "def mis_nums(*args):\n",
    "    missed_nums = []\n",
    "    for num in range(1, max(args)+1):\n",
    "        if num not in args:\n",
    "            missed_nums.append(num)\n",
    "    str_missed_num = \", \".join(map(lambda n: str(n), missed_nums))\n",
    "    return (f\"In the above list of numbers {str_missed_num} is missing.\")\n",
    "    \n",
    "mis_nums(1,2,3,4,5,8,4,6,9)"
   ]
  },
  {
   "cell_type": "markdown",
   "metadata": {},
   "source": [
    "### 5. With a given list L, write a program to print this list L after removing all duplicate values with original order reserved."
   ]
  },
  {
   "cell_type": "code",
   "execution_count": 75,
   "metadata": {},
   "outputs": [
    {
     "name": "stdout",
     "output_type": "stream",
     "text": [
      "Please enter the numbers with spaces: 12 24 35 24 88 120 155 88 120 180 155\n"
     ]
    },
    {
     "data": {
      "text/plain": [
       "'12 24 35 88 120 155 180'"
      ]
     },
     "execution_count": 75,
     "metadata": {},
     "output_type": "execute_result"
    }
   ],
   "source": [
    "def dup_values():\n",
    "    input_nums = input(\"Please enter the numbers with spaces: \")\n",
    "    innums_split = input_nums.split()\n",
    "    int_split = list(map(lambda n : str(n), innums_split))\n",
    "    unique_nums = []\n",
    "    for nums in int_split:\n",
    "        if nums not in unique_nums:\n",
    "            unique_nums.append(nums)\n",
    "        else:\n",
    "            pass\n",
    "    return \" \".join(unique_nums)\n",
    "dup_values()"
   ]
  }
 ],
 "metadata": {
  "kernelspec": {
   "display_name": "Python 3",
   "language": "python",
   "name": "python3"
  },
  "language_info": {
   "codemirror_mode": {
    "name": "ipython",
    "version": 3
   },
   "file_extension": ".py",
   "mimetype": "text/x-python",
   "name": "python",
   "nbconvert_exporter": "python",
   "pygments_lexer": "ipython3",
   "version": "3.7.4"
  }
 },
 "nbformat": 4,
 "nbformat_minor": 2
}
