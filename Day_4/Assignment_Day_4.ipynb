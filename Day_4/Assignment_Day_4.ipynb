{
 "cells": [
  {
   "cell_type": "markdown",
   "metadata": {},
   "source": [
    "## 1. Research on Addition, Subtraction, Multipilcation, Division, Modulo and Floor Division operations to be performed on complex numbers."
   ]
  },
  {
   "cell_type": "code",
   "execution_count": 4,
   "metadata": {},
   "outputs": [
    {
     "name": "stdout",
     "output_type": "stream",
     "text": [
      "Enter the real num of first complex number: 5\n",
      "Enter the imaginary num of first complex number: 6\n",
      "Enter the real num of second complex number: 4\n",
      "Enter the imaginary num of second complex number: 3\n",
      "Enter the operation you want ot make between complex numbers(+, -, *, /, %, //): //\n",
      "(1+2j)\n"
     ]
    }
   ],
   "source": [
    "a = int(input(\"Enter the real num of first complex number: \"))\n",
    "b = int(input(\"Enter the imaginary num of first complex number: \"))\n",
    "c = int(input(\"Enter the real num of second complex number: \"))\n",
    "d = int(input(\"Enter the imaginary num of second complex number: \"))\n",
    "operation = input(\"Enter the operation you want ot make between complex numbers(+, -, *, /, %, //): \")\n",
    "if operation == \"+\":\n",
    "    comp_add = complex(a, b) + complex(c, d)\n",
    "    print (comp_add)\n",
    "elif operation == \"-\":\n",
    "    comp_sub = complex(a, b) - complex(c, d)\n",
    "    print (comp_sub)\n",
    "elif operation == \"*\":\n",
    "    comp_mul = complex(a, b) * complex(c, d)\n",
    "    print (comp_mul)\n",
    "elif operation == \"/\":\n",
    "    comp_div = complex(a, b) / complex(c, d)\n",
    "    print (comp_div)\n",
    "\n",
    "elif operation == \"%\":\n",
    "    mod_real = a%c\n",
    "    mod_img = b%d\n",
    "    comp_mod = complex(mod_real, mod_img)\n",
    "    print (comp_mod)\n",
    "elif operation == \"//\":\n",
    "    fdiv_real = a//c\n",
    "    fdiv_img = b//d\n",
    "    comp_fdiv = complex(fdiv_real, fdiv_img)\n",
    "    print (comp_fdiv)"
   ]
  },
  {
   "cell_type": "markdown",
   "metadata": {},
   "source": [
    "## 2. Research on range() function and it's parameters.\n",
    "\n",
    "__range(start, stop, step)__\n",
    "- Range function takes only three arguments.\n",
    "- Only intergers can be passed in as arguments.\n",
    "- It works depends on the arguments passed.\n",
    "- It allows the users to generate series of numbers within given arguments.\n",
    "- Argument passed in start should always be lesser then stop, likewise stop should always be greater than start.\n",
    "- Range of integer ends at -1 of stop.\n",
    "- step determines the increment between each integers in the sequence."
   ]
  },
  {
   "cell_type": "code",
   "execution_count": 9,
   "metadata": {},
   "outputs": [
    {
     "name": "stdout",
     "output_type": "stream",
     "text": [
      "[0, 2, 4, 6, 8, 10, 12, 14, 16, 18, 20, 22, 24, 26, 28, 30, 32, 34, 36, 38, 40, 42, 44, 46, 48, 50]\n"
     ]
    }
   ],
   "source": [
    "lst = []\n",
    "for i in range(0, 51, 2):\n",
    "    lst.append(i)\n",
    "print(lst)"
   ]
  },
  {
   "cell_type": "markdown",
   "metadata": {},
   "source": [
    "## 3. Consider two number, if the sutraction between the two numbers is greater than 25 print Multiplication between the numbers else print division."
   ]
  },
  {
   "cell_type": "code",
   "execution_count": 14,
   "metadata": {},
   "outputs": [
    {
     "name": "stdout",
     "output_type": "stream",
     "text": [
      "First number: 65\n",
      "Second number: 32.5\n",
      "Multiplication between two numbers is:  2112.5\n"
     ]
    }
   ],
   "source": [
    "num1 = float(input(\"First number: \"))\n",
    "num2 = float(input(\"Second number: \"))\n",
    "subtract = num1-num2\n",
    "multiply = num1 * num2\n",
    "divison = num1 / num2\n",
    "if subtract > 25:\n",
    "    print(\"Multiplication between two numbers is: \", round(multiply, 3))\n",
    "elif subtract <=25:\n",
    "    print(\"Subtraction between two numbers is: \", round(subtract, 3))\n",
    "else:\n",
    "    print(\"Divison between two numbers is: \", round(divison, 3))"
   ]
  },
  {
   "cell_type": "markdown",
   "metadata": {},
   "source": [
    "## 4. Consider a list of 10 numbers of integers, if the number in the list is divisible by 2 the print square of that number minus 2."
   ]
  },
  {
   "cell_type": "code",
   "execution_count": 19,
   "metadata": {},
   "outputs": [
    {
     "name": "stdout",
     "output_type": "stream",
     "text": [
      "Enter the starting number: 5\n",
      "Enter the end number: 30\n",
      "Enter the step number: 3\n",
      "The result of 8 is  62\n",
      "The result of 14 is  194\n",
      "The result of 20 is  398\n",
      "The result of 26 is  674\n",
      "[5, 8, 11, 14, 17, 20, 23, 26, 29]\n"
     ]
    }
   ],
   "source": [
    "start = int(input(\"Enter the starting number: \"))\n",
    "stop = int(input(\"Enter the end number: \"))\n",
    "step = int(input(\"Enter the step number: \"))\n",
    "lst = []\n",
    "for i in range (start, stop, step):\n",
    "    if len(lst)<=10:\n",
    "        lst.append(i)\n",
    "for j in lst:\n",
    "    if j % 2 == 0:\n",
    "        result = j ** 2 -2\n",
    "        print(f\"The result of {j} is \", result)\n",
    "print(lst)"
   ]
  },
  {
   "cell_type": "markdown",
   "metadata": {},
   "source": [
    "## 5. Consider the list of 10 numbers, print all the elements in the list which are greater than 7 when that number is divided by 2."
   ]
  },
  {
   "cell_type": "code",
   "execution_count": 1,
   "metadata": {},
   "outputs": [
    {
     "name": "stdout",
     "output_type": "stream",
     "text": [
      "Enter the starting number: 2\n",
      "Enter the end number: 30\n",
      "Enter the step number: 3\n",
      "The passed number is 17\n",
      "The passed number is 20\n",
      "The passed number is 23\n",
      "The passed number is 26\n",
      "The passed number is 29\n",
      "[2, 5, 8, 11, 14, 17, 20, 23, 26, 29]\n"
     ]
    }
   ],
   "source": [
    "start = int(input(\"Enter the starting number: \"))\n",
    "stop = int(input(\"Enter the end number: \"))\n",
    "step = int(input(\"Enter the step number: \"))\n",
    "lst = []\n",
    "for i in range (start, stop, step):\n",
    "    if len(lst)<=10:\n",
    "        lst.append(i)\n",
    "for j in lst:\n",
    "    div = j/2\n",
    "    if div > 7:\n",
    "        print(f\"The passed number is {j}\")\n",
    "\n",
    "print(lst)"
   ]
  }
 ],
 "metadata": {
  "kernelspec": {
   "display_name": "Python 3",
   "language": "python",
   "name": "python3"
  },
  "language_info": {
   "codemirror_mode": {
    "name": "ipython",
    "version": 3
   },
   "file_extension": ".py",
   "mimetype": "text/x-python",
   "name": "python",
   "nbconvert_exporter": "python",
   "pygments_lexer": "ipython3",
   "version": "3.7.4"
  }
 },
 "nbformat": 4,
 "nbformat_minor": 2
}
